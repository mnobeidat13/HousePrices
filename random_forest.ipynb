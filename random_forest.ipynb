{
 "cells": [
  {
   "cell_type": "code",
   "execution_count": 39,
   "metadata": {},
   "outputs": [],
   "source": [
    "import pandas as pd \n",
    "import pandas_profiling\n",
    "from category_encoders.target_encoder import TargetEncoder as te\n",
    "import numpy as np\n",
    "from sklearn.model_selection import train_test_split\n",
    "from sklearn.ensemble import RandomForestRegressor as rndf\n",
    "import warnings\n",
    "warnings.filterwarnings('ignore')\n",
    "from sklearn.metrics import r2_score, mean_absolute_error,mean_squared_error\n"
   ]
  },
  {
   "cell_type": "code",
   "execution_count": 40,
   "metadata": {},
   "outputs": [],
   "source": [
    "def target_transform(x):\n",
    "    trans = te()\n",
    "    x['county_weight'] = trans.fit_transform(x.county.values,x.price).values/10e6\n",
    "    return x.drop('county',axis=1)"
   ]
  },
  {
   "cell_type": "code",
   "execution_count": 41,
   "metadata": {},
   "outputs": [],
   "source": [
    "def one_hot(x):\n",
    "    county_dummies = pd.get_dummies(x.county)\n",
    "    df1 = pd.concat([x, county_dummies], axis=1)\n",
    "    return df1.drop('county',axis=1)"
   ]
  },
  {
   "cell_type": "code",
   "execution_count": 42,
   "metadata": {},
   "outputs": [],
   "source": [
    "def split(x, test_size):\n",
    "    inputs = x.drop(to_drop,axis=1)\n",
    "    targets = x.price\n",
    "    return train_test_split(inputs, targets, test_size=test_size, random_state=1)"
   ]
  },
  {
   "cell_type": "code",
   "execution_count": 43,
   "metadata": {},
   "outputs": [],
   "source": [
    "def random_forest(x):  \n",
    "    inputs = x.drop(['price'],axis=1)\n",
    "    targets = x.price\n",
    "    x_train, x_test, y_train, y_test = train_test_split(inputs, targets, test_size=0.2, random_state=1)\n",
    "    rf = rndf()\n",
    "    rf.fit(x_train, y_train)\n",
    "    print('Random forest')\n",
    "    print('train score: ',rf.score(x_train, y_train))\n",
    "    print('test score: ',rf.score(x_test, y_test))\n",
    "    y_pred = rf.predict(x_test)\n",
    "    \n",
    "    return rf\n"
   ]
  },
  {
   "cell_type": "code",
   "execution_count": 44,
   "metadata": {},
   "outputs": [],
   "source": [
    "def test(f, to_drop):\n",
    "    target_transformed = target_transform(f)\n",
    "    one_hot_encoded = one_hot(f)\n",
    "    \n",
    "    print('Target transformed results')\n",
    "    random_forest(target_transformed,to_drop)\n",
    "    \n",
    "    print('--------------------')\n",
    "    print('One hot encoded results')\n",
    "    \n",
    "    random_forest(one_hot_encoded,to_drop) "
   ]
  },
  {
   "cell_type": "code",
   "execution_count": 45,
   "metadata": {},
   "outputs": [],
   "source": [
    "def outliers(f, z_score):\n",
    "    df3 = f[(np.abs(stats.zscore(f[['area','price']])) < z_score).all(axis=1)]\n",
    "    return df3"
   ]
  },
  {
   "cell_type": "code",
   "execution_count": 46,
   "metadata": {},
   "outputs": [],
   "source": [
    "f = pd.read_csv('ready_for_testing.csv')\n"
   ]
  },
  {
   "cell_type": "code",
   "execution_count": 47,
   "metadata": {},
   "outputs": [],
   "source": [
    "tt = target_transform(f)"
   ]
  },
  {
   "cell_type": "code",
   "execution_count": 48,
   "metadata": {},
   "outputs": [],
   "source": [
    "out1 = outliers(tt,3)"
   ]
  },
  {
   "cell_type": "code",
   "execution_count": 49,
   "metadata": {},
   "outputs": [
    {
     "name": "stdout",
     "output_type": "stream",
     "text": [
      "Random forest\n",
      "train score:  0.9731610459282147\n",
      "test score:  0.8719440362004399\n"
     ]
    },
    {
     "data": {
      "text/plain": [
       "RandomForestRegressor(bootstrap=True, criterion='mse', max_depth=None,\n",
       "           max_features='auto', max_leaf_nodes=None,\n",
       "           min_impurity_decrease=0.0, min_impurity_split=None,\n",
       "           min_samples_leaf=1, min_samples_split=2,\n",
       "           min_weight_fraction_leaf=0.0, n_estimators=10, n_jobs=None,\n",
       "           oob_score=False, random_state=None, verbose=0, warm_start=False)"
      ]
     },
     "execution_count": 49,
     "metadata": {},
     "output_type": "execute_result"
    }
   ],
   "source": [
    "random_forest(out)"
   ]
  },
  {
   "cell_type": "code",
   "execution_count": 50,
   "metadata": {},
   "outputs": [],
   "source": [
    "oh = one_hot(f)"
   ]
  },
  {
   "cell_type": "code",
   "execution_count": 51,
   "metadata": {},
   "outputs": [],
   "source": [
    "out2 = outliers(oh, 3)"
   ]
  },
  {
   "cell_type": "code",
   "execution_count": 52,
   "metadata": {},
   "outputs": [
    {
     "name": "stdout",
     "output_type": "stream",
     "text": [
      "Random forest\n",
      "train score:  0.9731890369406648\n",
      "test score:  0.8683065099933912\n"
     ]
    },
    {
     "data": {
      "text/plain": [
       "RandomForestRegressor(bootstrap=True, criterion='mse', max_depth=None,\n",
       "           max_features='auto', max_leaf_nodes=None,\n",
       "           min_impurity_decrease=0.0, min_impurity_split=None,\n",
       "           min_samples_leaf=1, min_samples_split=2,\n",
       "           min_weight_fraction_leaf=0.0, n_estimators=10, n_jobs=None,\n",
       "           oob_score=False, random_state=None, verbose=0, warm_start=False)"
      ]
     },
     "execution_count": 52,
     "metadata": {},
     "output_type": "execute_result"
    }
   ],
   "source": [
    "random_forest(out)"
   ]
  },
  {
   "cell_type": "code",
   "execution_count": null,
   "metadata": {},
   "outputs": [],
   "source": []
  },
  {
   "cell_type": "code",
   "execution_count": null,
   "metadata": {},
   "outputs": [],
   "source": []
  }
 ],
 "metadata": {
  "kernelspec": {
   "display_name": "Python 3",
   "language": "python",
   "name": "python3"
  },
  "language_info": {
   "codemirror_mode": {
    "name": "ipython",
    "version": 3
   },
   "file_extension": ".py",
   "mimetype": "text/x-python",
   "name": "python",
   "nbconvert_exporter": "python",
   "pygments_lexer": "ipython3",
   "version": "3.7.1"
  }
 },
 "nbformat": 4,
 "nbformat_minor": 2
}
